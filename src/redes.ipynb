{
 "cells": [
  {
   "cell_type": "code",
   "execution_count": 8,
   "id": "3bd90236-19ca-4157-bc13-593b8bb17e29",
   "metadata": {
    "tags": []
   },
   "outputs": [
    {
     "name": "stdout",
     "output_type": "stream",
     "text": [
      "/home/mili/Documentos/Famaf/tercer_año/redes/laboratorio/redes23lab3g01/src\n"
     ]
    }
   ],
   "source": [
    "import os \n",
    "print(os.getcwd())\n"
   ]
  },
  {
   "cell_type": "code",
   "execution_count": 9,
   "id": "853127ee",
   "metadata": {},
   "outputs": [
    {
     "name": "stdout",
     "output_type": "stream",
     "text": [
      "General.anf        \u001b[0m\u001b[01;32mMakefile\u001b[0m*     \u001b[01;34mout\u001b[0m/         \u001b[01;34mresults\u001b[0m/\r\n",
      "\u001b[01;32mGenerator.cc\u001b[0m*      \u001b[01;32mnetwork.ned\u001b[0m*  \u001b[01;32mQueue.cc\u001b[0m*    \u001b[01;32mSink.cc\u001b[0m*\r\n",
      "\u001b[01;32mlab3-kickstarter\u001b[0m*  \u001b[01;32momnetpp.ini\u001b[0m*  redes.ipynb\r\n"
     ]
    }
   ],
   "source": [
    "ls\n"
   ]
  },
  {
   "cell_type": "code",
   "execution_count": 10,
   "id": "2fabef12",
   "metadata": {},
   "outputs": [
    {
     "data": {
      "text/html": [
       "<div>\n",
       "<style scoped>\n",
       "    .dataframe tbody tr th:only-of-type {\n",
       "        vertical-align: middle;\n",
       "    }\n",
       "\n",
       "    .dataframe tbody tr th {\n",
       "        vertical-align: top;\n",
       "    }\n",
       "\n",
       "    .dataframe thead th {\n",
       "        text-align: right;\n",
       "    }\n",
       "</style>\n",
       "<table border=\"1\" class=\"dataframe\">\n",
       "  <thead>\n",
       "    <tr style=\"text-align: right;\">\n",
       "      <th></th>\n",
       "      <th>run</th>\n",
       "      <th>type</th>\n",
       "      <th>module</th>\n",
       "      <th>name</th>\n",
       "      <th>attrname</th>\n",
       "      <th>attrvalue</th>\n",
       "      <th>vectime</th>\n",
       "      <th>vecvalue</th>\n",
       "    </tr>\n",
       "  </thead>\n",
       "  <tbody>\n",
       "    <tr>\n",
       "      <th>0</th>\n",
       "      <td>General-0-20230505-10:44:13-69800</td>\n",
       "      <td>vector</td>\n",
       "      <td>Network.nodeTx.gen</td>\n",
       "      <td>packetGen</td>\n",
       "      <td>NaN</td>\n",
       "      <td>NaN</td>\n",
       "      <td>0.007958745046 0.016944348931 0.029503656511 0...</td>\n",
       "      <td>1 1 1 1 1 1 1 1 1 1 1 1 1 1 1 1 1 1 1 1 1 1 1 ...</td>\n",
       "    </tr>\n",
       "    <tr>\n",
       "      <th>1</th>\n",
       "      <td>General-0-20230505-10:44:13-69800</td>\n",
       "      <td>vector</td>\n",
       "      <td>Network.nodeTx.queue</td>\n",
       "      <td>bufferSize</td>\n",
       "      <td>NaN</td>\n",
       "      <td>NaN</td>\n",
       "      <td>0.007958745046 0.016944348931 0.029503656511 0...</td>\n",
       "      <td>1 1 2 3 4 5 6 7 7 8 9 10 11 12 13 14 15 16 17 ...</td>\n",
       "    </tr>\n",
       "    <tr>\n",
       "      <th>2</th>\n",
       "      <td>General-0-20230505-10:44:13-69800</td>\n",
       "      <td>vector</td>\n",
       "      <td>Network.queue</td>\n",
       "      <td>bufferSize</td>\n",
       "      <td>NaN</td>\n",
       "      <td>NaN</td>\n",
       "      <td>0.108058745046 0.208058745046 0.308058745046 0...</td>\n",
       "      <td>1 1 1 2 2 3 3 4 4 5 5 6 6 7 7 8 8 9 9 10 10 11...</td>\n",
       "    </tr>\n",
       "    <tr>\n",
       "      <th>3</th>\n",
       "      <td>General-0-20230505-10:44:13-69800</td>\n",
       "      <td>vector</td>\n",
       "      <td>Network.nodeRx.queue</td>\n",
       "      <td>bufferSize</td>\n",
       "      <td>NaN</td>\n",
       "      <td>NaN</td>\n",
       "      <td>0.308158745046 0.508158745046 0.708158745046 0...</td>\n",
       "      <td>1 1 1 1 1 1 1 1 1 1 1 1 1 1 1 1 1 1 1 1 1 1 1 ...</td>\n",
       "    </tr>\n",
       "    <tr>\n",
       "      <th>4</th>\n",
       "      <td>General-0-20230505-10:44:13-69800</td>\n",
       "      <td>vector</td>\n",
       "      <td>Network.nodeRx.sink</td>\n",
       "      <td>Delay</td>\n",
       "      <td>NaN</td>\n",
       "      <td>NaN</td>\n",
       "      <td>0.408158745046 0.608158745046 0.808158745046 1...</td>\n",
       "      <td>0.4002 0.591214396115 0.778655088535 0.9600590...</td>\n",
       "    </tr>\n",
       "    <tr>\n",
       "      <th>5</th>\n",
       "      <td>General-0-20230505-10:44:13-69800</td>\n",
       "      <td>vector</td>\n",
       "      <td>Network.queue</td>\n",
       "      <td>packetDropVector</td>\n",
       "      <td>NaN</td>\n",
       "      <td>NaN</td>\n",
       "      <td>40.208058745046 40.408058745046 40.60805874504...</td>\n",
       "      <td>1 1 1 1 1 1 1 1 1 1 1 1 1 1 1 1 1 1 1 1 1 1 1 ...</td>\n",
       "    </tr>\n",
       "  </tbody>\n",
       "</table>\n",
       "</div>"
      ],
      "text/plain": [
       "                                 run    type                module   \n",
       "0  General-0-20230505-10:44:13-69800  vector    Network.nodeTx.gen  \\\n",
       "1  General-0-20230505-10:44:13-69800  vector  Network.nodeTx.queue   \n",
       "2  General-0-20230505-10:44:13-69800  vector         Network.queue   \n",
       "3  General-0-20230505-10:44:13-69800  vector  Network.nodeRx.queue   \n",
       "4  General-0-20230505-10:44:13-69800  vector   Network.nodeRx.sink   \n",
       "5  General-0-20230505-10:44:13-69800  vector         Network.queue   \n",
       "\n",
       "               name  attrname  attrvalue   \n",
       "0         packetGen       NaN        NaN  \\\n",
       "1        bufferSize       NaN        NaN   \n",
       "2        bufferSize       NaN        NaN   \n",
       "3        bufferSize       NaN        NaN   \n",
       "4             Delay       NaN        NaN   \n",
       "5  packetDropVector       NaN        NaN   \n",
       "\n",
       "                                             vectime   \n",
       "0  0.007958745046 0.016944348931 0.029503656511 0...  \\\n",
       "1  0.007958745046 0.016944348931 0.029503656511 0...   \n",
       "2  0.108058745046 0.208058745046 0.308058745046 0...   \n",
       "3  0.308158745046 0.508158745046 0.708158745046 0...   \n",
       "4  0.408158745046 0.608158745046 0.808158745046 1...   \n",
       "5  40.208058745046 40.408058745046 40.60805874504...   \n",
       "\n",
       "                                            vecvalue  \n",
       "0  1 1 1 1 1 1 1 1 1 1 1 1 1 1 1 1 1 1 1 1 1 1 1 ...  \n",
       "1  1 1 2 3 4 5 6 7 7 8 9 10 11 12 13 14 15 16 17 ...  \n",
       "2  1 1 1 2 2 3 3 4 4 5 5 6 6 7 7 8 8 9 9 10 10 11...  \n",
       "3  1 1 1 1 1 1 1 1 1 1 1 1 1 1 1 1 1 1 1 1 1 1 1 ...  \n",
       "4  0.4002 0.591214396115 0.778655088535 0.9600590...  \n",
       "5  1 1 1 1 1 1 1 1 1 1 1 1 1 1 1 1 1 1 1 1 1 1 1 ...  "
      ]
     },
     "execution_count": 10,
     "metadata": {},
     "output_type": "execute_result"
    }
   ],
   "source": [
    "#Configuracion inicial\n",
    "%matplotlib inline\n",
    "import matplotlib.pyplot as plt #librería para graficas de python\n",
    "import numpy # extiende las librerias de matemática de python\n",
    "import pandas as pd #libreria para procesamiento de datos muy usada en la industria\n",
    "import seaborn # Extiende las funcionalidades de matplotlib, muy usado en data visualization\n",
    "import csv \n",
    "\n",
    "str_filename = 'results/prueba3.csv'\n",
    "\n",
    "fh = open(str_filename)\n",
    "\n",
    "data = pd.read_csv(str_filename)\n",
    "\n",
    "data\n"
   ]
  },
  {
   "cell_type": "code",
   "execution_count": 15,
   "id": "e1b94a1a-7730-4a3f-bbe1-566690fc3d64",
   "metadata": {},
   "outputs": [
    {
     "name": "stdout",
     "output_type": "stream",
     "text": [
      "4187\n",
      "12982\n",
      "4187\n",
      "12982\n",
      "1200\n",
      "1200\n",
      "999\n",
      "999\n"
     ]
    }
   ],
   "source": [
    "#Omnet guarda los valores de nuestro \"vector\" (lista de valores) en una celda, por lo que tengo que extraer estos valores\n",
    "\n",
    "print(len(time_gen))\n",
    "print(len(buffer_gen))\n",
    "\n",
    "time_gen = data['vectime'].loc[[1]].tolist()\n",
    "\n",
    "buffer_gen = data['vecvalue'].loc[[1]].tolist()\n",
    "\n",
    "time_queue = data['vectime'].loc[[2]].tolist()\n",
    "buffer_queue = data['vecvalue'].loc[[2]].tolist()\n",
    "\n",
    "time_sink = data['vectime'].loc[[3]].tolist()\n",
    "buffer_sink = data['vecvalue'].loc[[3]].tolist()\n",
    "\n",
    "# Los valores que sacamos estan como un solostring separados por comas por lo que tengo que convertirlos a listas para poder graficarlos\n",
    "time_gen = list(map(float,time_gen[0].split()))\n",
    "time_queue = list(map(float,time_queue[0].split()))\n",
    "time_sink = list(map(float,time_sink[0].split()))\n",
    "buffer_gen = list(map(float,buffer_gen[0].split()))\n",
    "buffer_queue = list(map(float,buffer_queue[0].split()))\n",
    "buffer_sink = list(map(float,buffer_sink[0].split()))\n",
    "\n",
    "print(len(time_gen))\n",
    "print(len(buffer_gen))\n",
    "print(len(time_queue))\n",
    "print(len(buffer_queue))\n",
    "print(len(time_sink))\n",
    "print(len(buffer_sink))"
   ]
  },
  {
   "cell_type": "code",
   "execution_count": 12,
   "id": "ca347344",
   "metadata": {},
   "outputs": [
    {
     "name": "stdout",
     "output_type": "stream",
     "text": [
      "1.0\n",
      "1.0\n"
     ]
    },
    {
     "data": {
      "image/png": "[encoded data removed]",
      "text/plain": [
       "<Figure size 640x480 with 1 Axes>"
      ]
     },
     "metadata": {},
     "output_type": "display_data"
    }
   ],
   "source": [
    "fig, ax = plt.subplots() #creo una figura y divido en pares para dibujar\n",
    "plt.style.use(\"ggplot\") #aplico un estilo de graficos\n",
    "#plt.style.available -> para ver estilos posibles\n",
    "ax.plot(time_sink,buffer_sink)\n",
    "print(max(buffer_sink))\n",
    "print(min(buffer_sink))"
   ]
  },
  {
   "cell_type": "code",
   "execution_count": 13,
   "id": "c4bbb2d7",
   "metadata": {
    "scrolled": false
   },
   "outputs": [
    {
     "data": {
      "text/plain": [
       "<function matplotlib.pyplot.show(close=None, block=None)>"
      ]
     },
     "execution_count": 13,
     "metadata": {},
     "output_type": "execute_result"
    },
    {
     "data": {
      "image/png": "[encoded data removed]",
      "text/plain": [
       "<Figure size 640x480 with 1 Axes>"
      ]
     },
     "metadata": {},
     "output_type": "display_data"
    }
   ],
   "source": [
    "fig, ax1 = plt.subplots()\n",
    "#plt.plot(time_gen,buffer_gen, color='tab:blue', label=\"Tx\")\n",
    "plt.plot(time_queue,buffer_queue, color='tab:orange', label=\"Queue\")\n",
    "plt.plot(time_sink,buffer_sink, color='tab:green', label=\"Rx\")\n",
    "plt.title('Ocupacion de buffers en el sistema')\n",
    "plt.xlabel(\"tiempo de simulacion\")\n",
    "plt.ylabel(\"Cantidad de paquetes en el buffer\")\n",
    "plt.legend()\n",
    "plt.show"
   ]
  },
  {
   "cell_type": "code",
   "execution_count": null,
   "id": "2c62c3f4",
   "metadata": {},
   "outputs": [],
   "source": []
  },
  {
   "cell_type": "code",
   "execution_count": null,
   "id": "98109c16",
   "metadata": {},
   "outputs": [],
   "source": []
  },
  {
   "cell_type": "code",
   "execution_count": null,
   "id": "0e7d09cd",
   "metadata": {},
   "outputs": [],
   "source": []
  },
  {
   "cell_type": "code",
   "execution_count": null,
   "id": "0c61a734",
   "metadata": {},
   "outputs": [],
   "source": []
  },
  {
   "cell_type": "code",
   "execution_count": null,
   "id": "628da43a",
   "metadata": {},
   "outputs": [],
   "source": []
  }
 ],
 "metadata": {
  "kernelspec": {
   "display_name": "Python 3 (ipykernel)",
   "language": "python",
   "name": "python3"
  },
  "language_info": {
   "codemirror_mode": {
    "name": "ipython",
    "version": 3
   },
   "file_extension": ".py",
   "mimetype": "text/x-python",
   "name": "python",
   "nbconvert_exporter": "python",
   "pygments_lexer": "ipython3",
   "version": "3.10.6"
  }
 },
 "nbformat": 4,
 "nbformat_minor": 5
}
